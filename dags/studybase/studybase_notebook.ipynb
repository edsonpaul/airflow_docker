{
 "cells": [
  {
   "cell_type": "markdown",
   "id": "2bd43a93",
   "metadata": {},
   "source": [
    "# StudyBase ETL"
   ]
  },
  {
   "cell_type": "markdown",
   "id": "9ba9ef47",
   "metadata": {},
   "source": [
    "### Connect to Postgres"
   ]
  },
  {
   "cell_type": "code",
   "execution_count": null,
   "id": "bb50cfe9",
   "metadata": {},
   "outputs": [],
   "source": [
    "import logging\n",
    "import psycopg2\n",
    "import logging\n",
    "import pandas as pd\n",
    "\n",
    "schema = 'studybase'\n",
    "scv_password = 'test1234'\n",
    "\n",
    "conn = psycopg2.connect(\n",
    "    dbname='t2d',\n",
    "    user='svc_etl_gmp',\n",
    "    password=svc_password,\n",
    "    host='prod-t2d-rds.c1nqtd6s9v6b.us-east-1.rds.amazonaws.com',\n",
    "    port='5432',\n",
    "    sslmode='verify-full',\n",
    "    sslrootcert=ssl_root_cert\n",
    ")\n",
    "\n",
    "print(conn)"
   ]
  },
  {
   "cell_type": "code",
   "execution_count": null,
   "id": "8c14779a",
   "metadata": {},
   "outputs": [],
   "source": [
    "cursor = conn.cursor()\n",
    "\n",
    "sql_query = \"\"\"\n",
    "SELECT\n",
    "table_name,\n",
    "column_name,\n",
    "ordinal_position,\n",
    "is_nullable,\n",
    "data_type\n",
    "FROM information_schema.columns\n",
    "WHERE table_schema = '{}'\n",
    "AND table_name <> 'errorlog'\"\"\".format(schema)\n",
    "\n",
    "# get all tables, columns\n",
    "cursor.execute(sql_query)\n",
    "records = cursor.fetchall()\n",
    "\n",
    "#close connection\n",
    "conn.close()"
   ]
  },
  {
   "cell_type": "code",
   "execution_count": null,
   "id": "5b7058c4",
   "metadata": {},
   "outputs": [],
   "source": [
    "# create tables dict\n",
    "# each table is a list of columns with the keys below\n",
    "# name, type, position, nullable\n",
    "tables_columns = {}\n",
    "\n",
    "limit_more = True\n",
    "limit_list = tablelist\n",
    "\n",
    "for row in records:\n",
    "    table_name = row[0]\n",
    "    if (limit_more and table_name not in limit_list):\n",
    "        continue\n",
    "    col_name = row[1]\n",
    "    col_pos = row[2]\n",
    "    is_nullable = row[3]\n",
    "    col_type = row[4]\n",
    "\n",
    "    if table_name not in tables_columns.keys():\n",
    "        tables_columns[table_name] = []\n",
    "    tables_columns[table_name].append({\n",
    "        'name': col_name,\n",
    "        'type': col_type,\n",
    "        'position': col_pos,\n",
    "        'nullable': is_nullable\n",
    "    })"
   ]
  },
  {
   "cell_type": "code",
   "execution_count": null,
   "id": "ffafeae9",
   "metadata": {},
   "outputs": [],
   "source": [
    "for table, column_dict in tables_columns.items():\n",
    "    logging.info('Starting table {}'.format(table))\n",
    "    sql = \"SELECT * FROM {}.{}\".format(schema, table)\n",
    "    result = pd.read_sql(sql, conn)\n",
    "    df = pd.DataFrame(result)\n",
    "\n",
    "    filepath = '{}_{}.csv'.format(table, file_ts)\n",
    "    # save CSV to gcp bucket\n",
    "    # bucket.blob(filepath).upload_from_string(df.to_csv(sep=\",\", line_terminator='\\r\\n', float_format='%g', index=False, encoding=\"utf-8\"), 'text/csv')\n",
    "\n",
    "    # drop indexes from dataframe\n",
    "    df = df.reset_index(drop=True)\n"
   ]
  }
 ],
 "metadata": {
  "kernelspec": {
   "display_name": "Python 3 (ipykernel)",
   "language": "python",
   "name": "python3"
  },
  "language_info": {
   "codemirror_mode": {
    "name": "ipython",
    "version": 3
   },
   "file_extension": ".py",
   "mimetype": "text/x-python",
   "name": "python",
   "nbconvert_exporter": "python",
   "pygments_lexer": "ipython3",
   "version": "3.9.7"
  }
 },
 "nbformat": 4,
 "nbformat_minor": 5
}
